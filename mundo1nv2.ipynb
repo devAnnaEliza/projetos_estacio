{
  "nbformat": 4,
  "nbformat_minor": 0,
  "metadata": {
    "colab": {
      "provenance": [],
      "authorship_tag": "ABX9TyMXrn4QJnFYFJSGHaxu2qCs",
      "include_colab_link": true
    },
    "kernelspec": {
      "name": "python3",
      "display_name": "Python 3"
    },
    "language_info": {
      "name": "python"
    }
  },
  "cells": [
    {
      "cell_type": "markdown",
      "metadata": {
        "id": "view-in-github",
        "colab_type": "text"
      },
      "source": [
        "<a href=\"https://colab.research.google.com/github/devAnnaEliza/projetos_estacio/blob/main/mundo1nv2.ipynb\" target=\"_parent\"><img src=\"https://colab.research.google.com/assets/colab-badge.svg\" alt=\"Open In Colab\"/></a>"
      ]
    },
    {
      "cell_type": "code",
      "execution_count": 1,
      "metadata": {
        "colab": {
          "base_uri": "https://localhost:8080/"
        },
        "id": "vcDLGIUnpJz5",
        "outputId": "98e09e8f-688c-48a2-8278-6f4dab65b34a"
      },
      "outputs": [
        {
          "output_type": "stream",
          "name": "stdout",
          "text": [
            "Digite um número:17\n",
            "Número na base: 17\n",
            "Número convertido para base binária: 10001\n"
          ]
        }
      ],
      "source": [
        "num = eval(input('Digite um número:'))\n",
        "resto = (num%2)\n",
        "quo = (num//2)\n",
        "nbin = str(resto)\n",
        "\n",
        "while quo >=1:\n",
        "  resto = (quo%2)\n",
        "  quo = (quo//2)\n",
        "  nbin= nbin + str(resto)\n",
        "\n",
        "binumero = nbin[::-1]\n",
        "\n",
        "print(\"Número na base:\", num)\n",
        "print(\"Número convertido para base binária:\", binumero)"
      ]
    }
  ]
}