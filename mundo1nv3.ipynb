{
  "cells": [
    {
      "cell_type": "markdown",
      "metadata": {
        "id": "view-in-github",
        "colab_type": "text"
      },
      "source": [
        "<a href=\"https://colab.research.google.com/github/devAnnaEliza/projetos_estacio/blob/main/mundo1nv3.ipynb\" target=\"_parent\"><img src=\"https://colab.research.google.com/assets/colab-badge.svg\" alt=\"Open In Colab\"/></a>"
      ]
    },
    {
      "cell_type": "code",
      "execution_count": 1,
      "metadata": {
        "id": "KQUfAgCRfi_6",
        "outputId": "afe69e1e-1f69-4859-b7cf-faeb5c4dab97",
        "colab": {
          "base_uri": "https://localhost:8080/"
        }
      },
      "outputs": [
        {
          "name": "stdout",
          "output_type": "stream",
          "text": [
            "Digite os números da lista separados por vírgula: 1, 4, 7, 2, 9, 3, 5\n"
          ]
        }
      ],
      "source": [
        "entrada = eval(input(\"Digite os números da lista separados por vírgula: \"))"
      ]
    },
    {
      "cell_type": "code",
      "execution_count": 2,
      "metadata": {
        "id": "-d3VfZ5ggMK9"
      },
      "outputs": [],
      "source": [
        "def subconj(lista_entrada):\n",
        "    return subconj_recursivo([], sorted(lista_entrada))\n",
        "\n",
        "def subconj_recursivo(atual, conjunto):\n",
        "    if conjunto:\n",
        "       return subconj_recursivo(atual, conjunto[1:]) + subconj_recursivo(atual + [conjunto[0]], conjunto[1:])\n",
        "    return [atual]\n",
        "\n",
        "lista_entrada = list(entrada)\n",
        "resultado = subconj(lista_entrada)"
      ]
    },
    {
      "cell_type": "code",
      "execution_count": 3,
      "metadata": {
        "colab": {
          "base_uri": "https://localhost:8080/"
        },
        "id": "2_cOk-VmlFFd",
        "outputId": "687aa00c-c3ba-4c82-c483-fecc6d4b6751"
      },
      "outputs": [
        {
          "output_type": "stream",
          "name": "stdout",
          "text": [
            "A lista digitada foi: [1, 4, 7, 2, 9, 3, 5]\n",
            "A quantidade de subconjuntos é: 128\n",
            "A lista de subconjutos é: [[], [1], [1, 2], [1, 2, 3], [1, 2, 3, 4], [1, 2, 3, 4, 5], [1, 2, 3, 4, 5, 7], [1, 2, 3, 4, 5, 7, 9], [1, 2, 3, 4, 5, 9], [1, 2, 3, 4, 7], [1, 2, 3, 4, 7, 9], [1, 2, 3, 4, 9], [1, 2, 3, 5], [1, 2, 3, 5, 7], [1, 2, 3, 5, 7, 9], [1, 2, 3, 5, 9], [1, 2, 3, 7], [1, 2, 3, 7, 9], [1, 2, 3, 9], [1, 2, 4], [1, 2, 4, 5], [1, 2, 4, 5, 7], [1, 2, 4, 5, 7, 9], [1, 2, 4, 5, 9], [1, 2, 4, 7], [1, 2, 4, 7, 9], [1, 2, 4, 9], [1, 2, 5], [1, 2, 5, 7], [1, 2, 5, 7, 9], [1, 2, 5, 9], [1, 2, 7], [1, 2, 7, 9], [1, 2, 9], [1, 3], [1, 3, 4], [1, 3, 4, 5], [1, 3, 4, 5, 7], [1, 3, 4, 5, 7, 9], [1, 3, 4, 5, 9], [1, 3, 4, 7], [1, 3, 4, 7, 9], [1, 3, 4, 9], [1, 3, 5], [1, 3, 5, 7], [1, 3, 5, 7, 9], [1, 3, 5, 9], [1, 3, 7], [1, 3, 7, 9], [1, 3, 9], [1, 4], [1, 4, 5], [1, 4, 5, 7], [1, 4, 5, 7, 9], [1, 4, 5, 9], [1, 4, 7], [1, 4, 7, 9], [1, 4, 9], [1, 5], [1, 5, 7], [1, 5, 7, 9], [1, 5, 9], [1, 7], [1, 7, 9], [1, 9], [2], [2, 3], [2, 3, 4], [2, 3, 4, 5], [2, 3, 4, 5, 7], [2, 3, 4, 5, 7, 9], [2, 3, 4, 5, 9], [2, 3, 4, 7], [2, 3, 4, 7, 9], [2, 3, 4, 9], [2, 3, 5], [2, 3, 5, 7], [2, 3, 5, 7, 9], [2, 3, 5, 9], [2, 3, 7], [2, 3, 7, 9], [2, 3, 9], [2, 4], [2, 4, 5], [2, 4, 5, 7], [2, 4, 5, 7, 9], [2, 4, 5, 9], [2, 4, 7], [2, 4, 7, 9], [2, 4, 9], [2, 5], [2, 5, 7], [2, 5, 7, 9], [2, 5, 9], [2, 7], [2, 7, 9], [2, 9], [3], [3, 4], [3, 4, 5], [3, 4, 5, 7], [3, 4, 5, 7, 9], [3, 4, 5, 9], [3, 4, 7], [3, 4, 7, 9], [3, 4, 9], [3, 5], [3, 5, 7], [3, 5, 7, 9], [3, 5, 9], [3, 7], [3, 7, 9], [3, 9], [4], [4, 5], [4, 5, 7], [4, 5, 7, 9], [4, 5, 9], [4, 7], [4, 7, 9], [4, 9], [5], [5, 7], [5, 7, 9], [5, 9], [7], [7, 9], [9]]\n"
          ]
        }
      ],
      "source": [
        "print(f'A lista digitada foi: {lista_entrada}')\n",
        "print(f'A quantidade de subconjuntos é: {len(resultado)}')\n",
        "print(f'A lista de subconjutos é: {sorted(resultado)}')\n"
      ]
    }
  ],
  "metadata": {
    "colab": {
      "provenance": [],
      "authorship_tag": "ABX9TyOrSgM87vJ+GU5bMZaHKBie",
      "include_colab_link": true
    },
    "kernelspec": {
      "display_name": "Python 3",
      "name": "python3"
    },
    "language_info": {
      "name": "python"
    }
  },
  "nbformat": 4,
  "nbformat_minor": 0
}