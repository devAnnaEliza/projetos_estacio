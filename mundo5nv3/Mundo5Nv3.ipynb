{
  "nbformat": 4,
  "nbformat_minor": 0,
  "metadata": {
    "colab": {
      "provenance": [],
      "authorship_tag": "ABX9TyPD3P60PZ9vF3cNE5OGTJ+t",
      "include_colab_link": true
    },
    "kernelspec": {
      "name": "python3",
      "display_name": "Python 3"
    },
    "language_info": {
      "name": "python"
    }
  },
  "cells": [
    {
      "cell_type": "markdown",
      "metadata": {
        "id": "view-in-github",
        "colab_type": "text"
      },
      "source": [
        "<a href=\"https://colab.research.google.com/github/devAnnaEliza/mundo5nv3/blob/main/Mundo5Nv3.ipynb\" target=\"_parent\"><img src=\"https://colab.research.google.com/assets/colab-badge.svg\" alt=\"Open In Colab\"/></a>"
      ]
    },
    {
      "cell_type": "code",
      "source": [
        "import pandas as pd\n",
        "\n",
        "df = pd.read_csv(\"/dados_mp.csv\", sep=';', quoting=1)\n",
        "\n",
        "print(df.info())\n",
        "print(df.head())\n",
        "print(df.tail())\n",
        "\n",
        "df_copy = df.copy()\n",
        "\n",
        "df_copy['Calories'].fillna(0, inplace=True)\n",
        "df_copy['Date'].fillna('1900/01/01', inplace=True)\n",
        "\n",
        "df_copy['Date'] = pd.to_datetime(df_copy['Date'], errors='coerce')\n",
        "df_copy['Date'].replace(pd.Timestamp('1900-01-01'), pd.NaT, inplace=True)\n",
        "\n",
        "df_copy['Date'] = df_copy['Date'].astype(str).replace('20201226', '2020-12-26')\n",
        "df_copy['Date'] = pd.to_datetime(df_copy['Date'], errors='coerce')\n",
        "\n",
        "df_copy.dropna(inplace=True)\n",
        "\n",
        "print(df_copy)"
      ],
      "metadata": {
        "colab": {
          "base_uri": "https://localhost:8080/"
        },
        "id": "vB3e_cKSoMTA",
        "outputId": "73508623-66dc-4966-dd56-0b11236ac073"
      },
      "execution_count": 21,
      "outputs": [
        {
          "output_type": "stream",
          "name": "stdout",
          "text": [
            "<class 'pandas.core.frame.DataFrame'>\n",
            "RangeIndex: 32 entries, 0 to 31\n",
            "Data columns (total 6 columns):\n",
            " #   Column    Non-Null Count  Dtype \n",
            "---  ------    --------------  ----- \n",
            " 0   ID        32 non-null     int64 \n",
            " 1   Duration  32 non-null     int64 \n",
            " 2   Date      31 non-null     object\n",
            " 3   Pulse     32 non-null     int64 \n",
            " 4   Maxpulse  32 non-null     int64 \n",
            " 5   Calories  30 non-null     object\n",
            "dtypes: int64(4), object(2)\n",
            "memory usage: 1.6+ KB\n",
            "None\n",
            "   ID  Duration          Date  Pulse  Maxpulse Calories\n",
            "0   0        60  '2020/12/01'    110       130     4091\n",
            "1   1        60  '2020/12/02'    117       145     4790\n",
            "2   2        60  '2020/12/03'    103       135     3400\n",
            "3   3        45  '2020/12/04'    109       175     2824\n",
            "4   4        45  '2020/12/05'    117       148     4060\n",
            "    ID  Duration          Date  Pulse  Maxpulse Calories\n",
            "27  27        60  '2020/12/27'     92       118     2410\n",
            "28  28        60  '2020/12/28'    103       132      NaN\n",
            "29  29        60  '2020/12/29'    100       132     2800\n",
            "30  30        60  '2020/12/30'    102       129     3803\n",
            "31  31        60  '2020/12/31'     92       115     2430\n",
            "    ID  Duration       Date  Pulse  Maxpulse Calories\n",
            "0    0        60 2020-12-01    110       130     4091\n",
            "1    1        60 2020-12-02    117       145     4790\n",
            "2    2        60 2020-12-03    103       135     3400\n",
            "3    3        45 2020-12-04    109       175     2824\n",
            "4    4        45 2020-12-05    117       148     4060\n",
            "5    5        60 2020-12-06    102       127     3000\n",
            "6    6        60 2020-12-07    110       136     3740\n",
            "7    7       450 2020-12-08    104       134     2533\n",
            "8    8        30 2020-12-09    109       133     1951\n",
            "9    9        60 2020-12-10     98       124     2690\n",
            "10  10        60 2020-12-11    103       147     3293\n",
            "11  11        60 2020-12-12    100       120     2507\n",
            "12  12        60 2020-12-12    100       120     2507\n",
            "13  13        60 2020-12-13    106       128     3453\n",
            "14  14        60 2020-12-14    104       132     3793\n",
            "15  15        60 2020-12-15     98       123     2750\n",
            "16  16        60 2020-12-16     98       120     2152\n",
            "17  17        60 2020-12-17    100       120     3000\n",
            "18  18        45 2020-12-18     90       112        0\n",
            "19  19        60 2020-12-19    103       123     3230\n",
            "20  20        45 2020-12-20     97       125   2430 2\n",
            "21   1        60 2020-12-21    108       131     3642\n",
            "23  23        60 2020-12-23    130       101     3000\n",
            "24  24        45 2020-12-24    105       132     2460\n",
            "25  25        60 2020-12-25    102       126     3345\n",
            "27  27        60 2020-12-27     92       118     2410\n",
            "28  28        60 2020-12-28    103       132        0\n",
            "29  29        60 2020-12-29    100       132     2800\n",
            "30  30        60 2020-12-30    102       129     3803\n",
            "31  31        60 2020-12-31     92       115     2430\n"
          ]
        },
        {
          "output_type": "stream",
          "name": "stderr",
          "text": [
            "<ipython-input-21-e0f6e0e41d5a>:11: FutureWarning: A value is trying to be set on a copy of a DataFrame or Series through chained assignment using an inplace method.\n",
            "The behavior will change in pandas 3.0. This inplace method will never work because the intermediate object on which we are setting values always behaves as a copy.\n",
            "\n",
            "For example, when doing 'df[col].method(value, inplace=True)', try using 'df.method({col: value}, inplace=True)' or df[col] = df[col].method(value) instead, to perform the operation inplace on the original object.\n",
            "\n",
            "\n",
            "  df_copy['Calories'].fillna(0, inplace=True)\n",
            "<ipython-input-21-e0f6e0e41d5a>:12: FutureWarning: A value is trying to be set on a copy of a DataFrame or Series through chained assignment using an inplace method.\n",
            "The behavior will change in pandas 3.0. This inplace method will never work because the intermediate object on which we are setting values always behaves as a copy.\n",
            "\n",
            "For example, when doing 'df[col].method(value, inplace=True)', try using 'df.method({col: value}, inplace=True)' or df[col] = df[col].method(value) instead, to perform the operation inplace on the original object.\n",
            "\n",
            "\n",
            "  df_copy['Date'].fillna('1900/01/01', inplace=True)\n",
            "<ipython-input-21-e0f6e0e41d5a>:15: FutureWarning: A value is trying to be set on a copy of a DataFrame or Series through chained assignment using an inplace method.\n",
            "The behavior will change in pandas 3.0. This inplace method will never work because the intermediate object on which we are setting values always behaves as a copy.\n",
            "\n",
            "For example, when doing 'df[col].method(value, inplace=True)', try using 'df.method({col: value}, inplace=True)' or df[col] = df[col].method(value) instead, to perform the operation inplace on the original object.\n",
            "\n",
            "\n",
            "  df_copy['Date'].replace(pd.Timestamp('1900-01-01'), pd.NaT, inplace=True)\n"
          ]
        }
      ]
    }
  ]
}